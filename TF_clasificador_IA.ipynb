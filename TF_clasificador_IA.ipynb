{
  "nbformat": 4,
  "nbformat_minor": 0,
  "metadata": {
    "colab": {
      "name": "TF_clasificador_IA",
      "provenance": [],
      "collapsed_sections": [],
      "include_colab_link": true
    },
    "kernelspec": {
      "name": "python3",
      "display_name": "Python 3"
    },
    "language_info": {
      "name": "python"
    },
    "accelerator": "GPU",
    "gpuClass": "standard"
  },
  "cells": [
    {
      "cell_type": "markdown",
      "metadata": {
        "id": "view-in-github",
        "colab_type": "text"
      },
      "source": [
        "<a href=\"https://colab.research.google.com/github/lromina/TF_IA/blob/main/TF_clasificador_IA.ipynb\" target=\"_parent\"><img src=\"https://colab.research.google.com/assets/colab-badge.svg\" alt=\"Open In Colab\"/></a>"
      ]
    },
    {
      "cell_type": "code",
      "source": [
        "#Extraemos del git las carpetas con las imagenes de cada categoria de electrodomestico\n",
        "! git clone https://github.com/lromina/TF_IA.git "
      ],
      "metadata": {
        "id": "Ff5ALQtBMofw",
        "colab": {
          "base_uri": "https://localhost:8080/"
        },
        "outputId": "e543accd-821a-4f06-978e-70ac2a5e70f3"
      },
      "execution_count": 1,
      "outputs": [
        {
          "output_type": "stream",
          "name": "stdout",
          "text": [
            "Cloning into 'TF_IA'...\n",
            "remote: Enumerating objects: 2195, done.\u001b[K\n",
            "remote: Counting objects: 100% (6/6), done.\u001b[K\n",
            "remote: Compressing objects: 100% (6/6), done.\u001b[K\n",
            "remote: Total 2195 (delta 1), reused 0 (delta 0), pack-reused 2189\u001b[K\n",
            "Receiving objects: 100% (2195/2195), 60.16 MiB | 41.85 MiB/s, done.\n",
            "Resolving deltas: 100% (1/1), done.\n"
          ]
        }
      ]
    },
    {
      "cell_type": "markdown",
      "source": [
        "# Nueva sección"
      ],
      "metadata": {
        "id": "LrjwqzQEbyUF"
      }
    },
    {
      "cell_type": "code",
      "source": [
        "#Mostramos cuantas imagenes tenemos por categoria\n",
        "!ls /content/TF_IA/ventiladores/ | wc -l\n",
        "!ls /content/TF_IA/tostadoras | wc -l\n",
        "!ls /content/TF_IA/televisores | wc -l\n",
        "!ls /content/TF_IA/microondas | wc -l\n",
        "!ls /content/TF_IA/lavarropas | wc -l\n",
        "!ls /content/TF_IA/heladeras | wc -l\n",
        "!ls /content/TF_IA/licuadoras | wc -l\n",
        "!ls /content/TF_IA/cocinas | wc -l\n",
        "!ls /content/TF_IA/cafeteras | wc -l\n",
        "!ls /content/TF_IA/aire_acondicionado | wc -l"
      ],
      "metadata": {
        "id": "vYJS0tJislGd"
      },
      "execution_count": null,
      "outputs": []
    },
    {
      "cell_type": "code",
      "source": [
        "#Mostramos algunas imagenes con pyplot\n",
        "import os\n",
        "import matplotlib.pyplot as plt\n",
        "import matplotlib.image as mpimg\n",
        "\n",
        "plt.figure(figsize=(15,15))\n",
        "\n",
        "carpeta = '/content/TF_IA/ventiladores/'\n",
        "imagenes = os.listdir(carpeta)\n",
        "\n",
        "for i, nombreimg in enumerate(imagenes[:25]):\n",
        "  plt.subplot(5,5,i+1)\n",
        "  imagen = mpimg.imread(carpeta + '/' + nombreimg)\n",
        "  plt.imshow(imagen)"
      ],
      "metadata": {
        "id": "AJJkXe2cu5gm"
      },
      "execution_count": null,
      "outputs": []
    },
    {
      "cell_type": "code",
      "source": [
        "#Creamos las carpetas para hacer el set de datos\n",
        "!mkdir dataset\n",
        "!mkdir dataset/aire_acondicionado\n",
        "!mkdir dataset/cafeteras\n",
        "!mkdir dataset/cocinas\n",
        "!mkdir dataset/heladeras\n",
        "!mkdir dataset/lavarropas\n",
        "!mkdir dataset/licuadoras\n",
        "!mkdir dataset/microondas\n",
        "!mkdir dataset/televisores\n",
        "!mkdir dataset/tostadoras\n",
        "!mkdir dataset/ventiladores\n"
      ],
      "metadata": {
        "id": "f6ZQPDv1keHx"
      },
      "execution_count": null,
      "outputs": []
    },
    {
      "cell_type": "code",
      "source": [
        "#Copiamos las imagenes obtenidas desde el Git a las carpetas del dataset\n",
        "import shutil\n",
        "carpeta_fuente = '/content/TF_IA/ventiladores/'\n",
        "carpeta_destino = '/content/dataset/ventiladores'\n",
        "\n",
        "imagenes = os.listdir(carpeta_fuente)\n",
        "\n",
        "for i, nombreimg in enumerate(imagenes):\n",
        "  #if i < 50:\n",
        "    #Copia de la carpeta fuente a la destino\n",
        "    shutil.copy(carpeta_fuente + '/' + nombreimg, carpeta_destino + '/' + nombreimg)"
      ],
      "metadata": {
        "id": "hqmOuTdNlKWf"
      },
      "execution_count": null,
      "outputs": []
    },
    {
      "cell_type": "code",
      "source": [
        "#Copiamos las imagenes obtenidas desde el Git a las carpetas del dataset\n",
        "import shutil\n",
        "carpeta_fuente = '/content/TF_IA/tostadoras/'\n",
        "carpeta_destino = '/content/dataset/tostadoras'\n",
        "\n",
        "imagenes = os.listdir(carpeta_fuente)\n",
        "\n",
        "for i, nombreimg in enumerate(imagenes):\n",
        "  #if i < 50:\n",
        "    #Copia de la carpeta fuente a la destino\n",
        "    shutil.copy(carpeta_fuente + '/' + nombreimg, carpeta_destino + '/' + nombreimg)"
      ],
      "metadata": {
        "id": "RvfLOkCmlzme"
      },
      "execution_count": null,
      "outputs": []
    },
    {
      "cell_type": "code",
      "source": [
        "#Copiamos las imagenes obtenidas desde el Git a las carpetas del dataset\n",
        "import shutil\n",
        "carpeta_fuente = '/content/TF_IA/televisores/'\n",
        "carpeta_destino = '/content/dataset/televisores'\n",
        "\n",
        "imagenes = os.listdir(carpeta_fuente)\n",
        "\n",
        "for i, nombreimg in enumerate(imagenes):\n",
        "  #if i < 50:\n",
        "    #Copia de la carpeta fuente a la destino\n",
        "    shutil.copy(carpeta_fuente + '/' + nombreimg, carpeta_destino + '/' + nombreimg)"
      ],
      "metadata": {
        "id": "mNz22v3WmIZG"
      },
      "execution_count": null,
      "outputs": []
    },
    {
      "cell_type": "code",
      "source": [
        "#Copiamos las imagenes obtenidas desde el Git a las carpetas del dataset\n",
        "import shutil\n",
        "carpeta_fuente = '/content/TF_IA/microondas/'\n",
        "carpeta_destino = '/content/dataset/microondas'\n",
        "\n",
        "imagenes = os.listdir(carpeta_fuente)\n",
        "\n",
        "for i, nombreimg in enumerate(imagenes):\n",
        "  #if i < 50:\n",
        "    #Copia de la carpeta fuente a la destino\n",
        "    shutil.copy(carpeta_fuente + '/' + nombreimg, carpeta_destino + '/' + nombreimg)"
      ],
      "metadata": {
        "id": "RprQVQzgmRj0"
      },
      "execution_count": null,
      "outputs": []
    },
    {
      "cell_type": "code",
      "source": [
        "#Copiamos las imagenes obtenidas desde el Git a las carpetas del dataset\n",
        "import shutil\n",
        "carpeta_fuente = '/content/TF_IA/licuadoras/'\n",
        "carpeta_destino = '/content/dataset/licuadoras'\n",
        "\n",
        "imagenes = os.listdir(carpeta_fuente)\n",
        "\n",
        "for i, nombreimg in enumerate(imagenes):\n",
        "  #if i < 50:\n",
        "    #Copia de la carpeta fuente a la destino\n",
        "    shutil.copy(carpeta_fuente + '/' + nombreimg, carpeta_destino + '/' + nombreimg)"
      ],
      "metadata": {
        "id": "8CoqqSmHmDy4"
      },
      "execution_count": null,
      "outputs": []
    },
    {
      "cell_type": "code",
      "source": [
        "#Copiamos las imagenes obtenidas desde el Git a las carpetas del dataset\n",
        "import shutil\n",
        "carpeta_fuente = '/content/TF_IA/lavarropas/'\n",
        "carpeta_destino = '/content/dataset/lavarropas'\n",
        "\n",
        "imagenes = os.listdir(carpeta_fuente)\n",
        "\n",
        "for i, nombreimg in enumerate(imagenes):\n",
        "  #if i < 50:\n",
        "    #Copia de la carpeta fuente a la destino\n",
        "    shutil.copy(carpeta_fuente + '/' + nombreimg, carpeta_destino + '/' + nombreimg)"
      ],
      "metadata": {
        "id": "dRblD3ZJmiu-"
      },
      "execution_count": null,
      "outputs": []
    },
    {
      "cell_type": "code",
      "source": [
        "#Copiamos las imagenes obtenidas desde el Git a las carpetas del dataset\n",
        "import shutil\n",
        "carpeta_fuente = '/content/TF_IA/heladeras/'\n",
        "carpeta_destino = '/content/dataset/heladeras'\n",
        "\n",
        "imagenes = os.listdir(carpeta_fuente)\n",
        "\n",
        "for i, nombreimg in enumerate(imagenes):\n",
        "  #if i < 50:\n",
        "    #Copia de la carpeta fuente a la destino\n",
        "    shutil.copy(carpeta_fuente + '/' + nombreimg, carpeta_destino + '/' + nombreimg)"
      ],
      "metadata": {
        "id": "qlbTkes4mwTL"
      },
      "execution_count": null,
      "outputs": []
    },
    {
      "cell_type": "code",
      "source": [
        "#Copiamos las imagenes obtenidas desde el Git a las carpetas del dataset\n",
        "import shutil\n",
        "carpeta_fuente = '/content/TF_IA/cocinas/'\n",
        "carpeta_destino = '/content/dataset/cocinas'\n",
        "\n",
        "imagenes = os.listdir(carpeta_fuente)\n",
        "\n",
        "for i, nombreimg in enumerate(imagenes):\n",
        "  #if i < 50:\n",
        "    #Copia de la carpeta fuente a la destino\n",
        "    shutil.copy(carpeta_fuente + '/' + nombreimg, carpeta_destino + '/' + nombreimg)"
      ],
      "metadata": {
        "id": "0pSlTgIam1sJ"
      },
      "execution_count": null,
      "outputs": []
    },
    {
      "cell_type": "code",
      "source": [
        "#Copiamos las imagenes obtenidas desde el Git a las carpetas del dataset\n",
        "import shutil\n",
        "carpeta_fuente = '/content/TF_IA/cafeteras/'\n",
        "carpeta_destino = '/content/dataset/cafeteras'\n",
        "\n",
        "imagenes = os.listdir(carpeta_fuente)\n",
        "\n",
        "for i, nombreimg in enumerate(imagenes):\n",
        "  #if i < 50:\n",
        "    #Copia de la carpeta fuente a la destino\n",
        "    shutil.copy(carpeta_fuente + '/' + nombreimg, carpeta_destino + '/' + nombreimg)"
      ],
      "metadata": {
        "id": "XTYMs21gm7Qg"
      },
      "execution_count": null,
      "outputs": []
    },
    {
      "cell_type": "code",
      "source": [
        "#Copiamos las imagenes obtenidas desde el Git a las carpetas del dataset\n",
        "import shutil\n",
        "carpeta_fuente = '/content/TF_IA/aire_acondicionado/'\n",
        "carpeta_destino = '/content/dataset/aire_acondicionado'\n",
        "\n",
        "imagenes = os.listdir(carpeta_fuente)\n",
        "\n",
        "for i, nombreimg in enumerate(imagenes):\n",
        "  #if i < 50:\n",
        "    #Copia de la carpeta fuente a la destino\n",
        "    shutil.copy(carpeta_fuente + '/' + nombreimg, carpeta_destino + '/' + nombreimg)"
      ],
      "metadata": {
        "id": "4ih45u_1nPjX"
      },
      "execution_count": null,
      "outputs": []
    },
    {
      "cell_type": "code",
      "source": [
        "#Realizamos el aumento de datos con ImageDataGenerator para tener el mismo tamaño\n",
        "from tensorflow.keras.preprocessing.image import ImageDataGenerator\n",
        "import numpy as np\n",
        "\n",
        "#Creaamos el dataset generador\n",
        "datagen = ImageDataGenerator(\n",
        "    rescale=1. / 255,\n",
        "    rotation_range = 30,\n",
        "    width_shift_range = 0.25,\n",
        "    height_shift_range = 0.25,\n",
        "    shear_range = 15,\n",
        "    zoom_range = [0.5, 1.5],\n",
        "    validation_split=0.2 #20% para pruebas\n",
        ")\n",
        "\n",
        "#Creamos los generadores para sets de entrenamiento y pruebas\n",
        "data_gen_entrenamiento = datagen.flow_from_directory('/content/dataset', target_size=(224,224),\n",
        "                                                     batch_size=32, shuffle=True, subset='training')\n",
        "data_gen_pruebas = datagen.flow_from_directory('/content/dataset', target_size=(224,224),\n",
        "                                                     batch_size=32, shuffle=True, subset='validation')\n",
        "\n",
        "#Imprimimos 10 imagenes del generador de entrenamiento\n",
        "for imagen, etiqueta in data_gen_entrenamiento:\n",
        "  for i in range(10):\n",
        "    plt.subplot(2,5,i+1)\n",
        "    plt.xticks([])\n",
        "    plt.yticks([])\n",
        "    plt.imshow(imagen[i])\n",
        "  break\n",
        "plt.show()"
      ],
      "metadata": {
        "colab": {
          "base_uri": "https://localhost:8080/",
          "height": 246
        },
        "id": "c7w2iVPKn3f-",
        "outputId": "6d27e5d6-985a-4bbf-cf2a-9cc91aebe718"
      },
      "execution_count": null,
      "outputs": [
        {
          "output_type": "stream",
          "name": "stdout",
          "text": [
            "Found 1727 images belonging to 10 classes.\n",
            "Found 430 images belonging to 10 classes.\n"
          ]
        },
        {
          "output_type": "display_data",
          "data": {
            "text/plain": [
              "<Figure size 432x288 with 10 Axes>"
            ],
            "image/png": "[encoded data removed]"
          },
          "metadata": {}
        }
      ]
    },
    {
      "cell_type": "code",
      "source": [
        "#Importamos el modelo para las redes neuronales\n",
        "import tensorflow as tf\n",
        "import tensorflow_hub as hub\n",
        "\n",
        "url = \"https://tfhub.dev/google/tf2-preview/mobilenet_v2/feature_vector/4\"\n",
        "mobilenetv2 = hub.KerasLayer(url, input_shape=(224,224,3))"
      ],
      "metadata": {
        "id": "h_eWAjWLpUlK"
      },
      "execution_count": null,
      "outputs": []
    },
    {
      "cell_type": "code",
      "source": [
        "#Congelamos el modelo descargado\n",
        "mobilenetv2.trainable = False"
      ],
      "metadata": {
        "id": "Dqve4Irbpfh8"
      },
      "execution_count": null,
      "outputs": []
    },
    {
      "cell_type": "code",
      "source": [
        "#Creamos el modelo de clasificacion para las 10 categorias\n",
        "modelo = tf.keras.Sequential([\n",
        "    mobilenetv2,\n",
        "    tf.keras.layers.Dense(10, activation='softmax')\n",
        "])"
      ],
      "metadata": {
        "id": "-gWCXbEBqJ_b"
      },
      "execution_count": null,
      "outputs": []
    },
    {
      "cell_type": "code",
      "source": [
        "#Verificamos el modelo a crear\n",
        "modelo.summary()"
      ],
      "metadata": {
        "id": "gr8sDtUnrBGq"
      },
      "execution_count": null,
      "outputs": []
    },
    {
      "cell_type": "code",
      "metadata": {
        "id": "7UfMugXKApYe"
      },
      "source": [
        "#Compilamos el modelo\n",
        "modelo.compile(\n",
        "    optimizer='adam',\n",
        "    loss='categorical_crossentropy',\n",
        "    metrics=['accuracy']\n",
        ")"
      ],
      "execution_count": null,
      "outputs": []
    },
    {
      "cell_type": "code",
      "source": [
        "#Entrenamos el modelo de clasificacion creado\n",
        "EPOCAS = 100\n",
        "\n",
        "historial = modelo.fit(\n",
        "    data_gen_entrenamiento, epochs=EPOCAS, batch_size=32,\n",
        "    validation_data=data_gen_pruebas\n",
        ")"
      ],
      "metadata": {
        "colab": {
          "base_uri": "https://localhost:8080/"
        },
        "id": "ftegecA2r9kL",
        "outputId": "37a0da42-5574-4c55-b894-5b85cfeccfa6"
      },
      "execution_count": null,
      "outputs": [
        {
          "output_type": "stream",
          "name": "stdout",
          "text": [
            "Epoch 1/100\n",
            "54/54 [==============================] - ETA: 0s - loss: 0.3225 - accuracy: 0.9050"
          ]
        },
        {
          "output_type": "stream",
          "name": "stderr",
          "text": [
            "/usr/local/lib/python3.7/dist-packages/PIL/Image.py:960: UserWarning: Palette images with Transparency expressed in bytes should be converted to RGBA images\n",
            "  \"Palette images with Transparency expressed in bytes should be \"\n"
          ]
        },
        {
          "output_type": "stream",
          "name": "stdout",
          "text": [
            "\b\b\b\b\b\b\b\b\b\b\b\b\b\b\b\b\b\b\b\b\b\b\b\b\b\b\b\b\b\b\b\b\b\b\b\b\b\b\b\b\b\b\b\b\b\b\b\b\b\b\b\b\b\b\b\b\b\b\b\b\b\b\b\b\b\b\b\b\b\b\b\b\b\b\b\b\b\b\b\b\b\b\r54/54 [==============================] - 31s 572ms/step - loss: 0.3225 - accuracy: 0.9050 - val_loss: 0.1999 - val_accuracy: 0.9395\n",
            "Epoch 2/100\n",
            "54/54 [==============================] - 30s 550ms/step - loss: 0.2693 - accuracy: 0.9294 - val_loss: 0.1800 - val_accuracy: 0.9512\n",
            "Epoch 3/100\n",
            "54/54 [==============================] - 30s 565ms/step - loss: 0.1754 - accuracy: 0.9479 - val_loss: 0.1812 - val_accuracy: 0.9465\n",
            "Epoch 4/100\n",
            "54/54 [==============================] - 30s 552ms/step - loss: 0.1327 - accuracy: 0.9554 - val_loss: 0.1916 - val_accuracy: 0.9512\n",
            "Epoch 5/100\n",
            "54/54 [==============================] - 31s 575ms/step - loss: 0.1121 - accuracy: 0.9647 - val_loss: 0.1757 - val_accuracy: 0.9558\n",
            "Epoch 6/100\n",
            "54/54 [==============================] - 30s 551ms/step - loss: 0.1514 - accuracy: 0.9496 - val_loss: 0.1703 - val_accuracy: 0.9535\n",
            "Epoch 7/100\n",
            "54/54 [==============================] - 30s 556ms/step - loss: 0.1148 - accuracy: 0.9664 - val_loss: 0.1052 - val_accuracy: 0.9698\n",
            "Epoch 8/100\n",
            "54/54 [==============================] - 30s 566ms/step - loss: 0.1106 - accuracy: 0.9624 - val_loss: 0.1704 - val_accuracy: 0.9465\n",
            "Epoch 9/100\n",
            "54/54 [==============================] - 29s 543ms/step - loss: 0.1097 - accuracy: 0.9612 - val_loss: 0.1205 - val_accuracy: 0.9674\n",
            "Epoch 10/100\n",
            "54/54 [==============================] - 30s 553ms/step - loss: 0.1017 - accuracy: 0.9618 - val_loss: 0.1619 - val_accuracy: 0.9488\n",
            "Epoch 11/100\n",
            "54/54 [==============================] - 29s 544ms/step - loss: 0.1109 - accuracy: 0.9635 - val_loss: 0.1223 - val_accuracy: 0.9605\n",
            "Epoch 12/100\n",
            "54/54 [==============================] - 29s 543ms/step - loss: 0.1032 - accuracy: 0.9693 - val_loss: 0.0778 - val_accuracy: 0.9698\n",
            "Epoch 13/100\n",
            "54/54 [==============================] - 30s 561ms/step - loss: 0.0994 - accuracy: 0.9658 - val_loss: 0.1344 - val_accuracy: 0.9605\n",
            "Epoch 14/100\n",
            "54/54 [==============================] - 29s 547ms/step - loss: 0.0936 - accuracy: 0.9664 - val_loss: 0.1230 - val_accuracy: 0.9512\n",
            "Epoch 15/100\n",
            "54/54 [==============================] - 30s 563ms/step - loss: 0.0775 - accuracy: 0.9722 - val_loss: 0.0872 - val_accuracy: 0.9721\n",
            "Epoch 16/100\n",
            "54/54 [==============================] - 29s 544ms/step - loss: 0.0873 - accuracy: 0.9699 - val_loss: 0.1243 - val_accuracy: 0.9651\n",
            "Epoch 17/100\n",
            "54/54 [==============================] - 29s 547ms/step - loss: 0.0997 - accuracy: 0.9624 - val_loss: 0.1023 - val_accuracy: 0.9628\n",
            "Epoch 18/100\n",
            "54/54 [==============================] - 30s 561ms/step - loss: 0.0983 - accuracy: 0.9670 - val_loss: 0.0832 - val_accuracy: 0.9791\n",
            "Epoch 19/100\n",
            "54/54 [==============================] - 29s 545ms/step - loss: 0.0921 - accuracy: 0.9682 - val_loss: 0.1488 - val_accuracy: 0.9628\n",
            "Epoch 20/100\n",
            "54/54 [==============================] - 29s 544ms/step - loss: 0.0828 - accuracy: 0.9728 - val_loss: 0.1267 - val_accuracy: 0.9628\n",
            "Epoch 21/100\n",
            "54/54 [==============================] - 30s 562ms/step - loss: 0.0590 - accuracy: 0.9815 - val_loss: 0.1333 - val_accuracy: 0.9628\n",
            "Epoch 22/100\n",
            "54/54 [==============================] - 29s 540ms/step - loss: 0.0815 - accuracy: 0.9734 - val_loss: 0.1064 - val_accuracy: 0.9628\n",
            "Epoch 23/100\n",
            "54/54 [==============================] - 30s 559ms/step - loss: 0.0925 - accuracy: 0.9716 - val_loss: 0.1134 - val_accuracy: 0.9698\n",
            "Epoch 24/100\n",
            "54/54 [==============================] - 29s 540ms/step - loss: 0.0863 - accuracy: 0.9757 - val_loss: 0.1469 - val_accuracy: 0.9558\n",
            "Epoch 25/100\n",
            "54/54 [==============================] - 29s 543ms/step - loss: 0.0754 - accuracy: 0.9722 - val_loss: 0.0860 - val_accuracy: 0.9721\n",
            "Epoch 26/100\n",
            "54/54 [==============================] - 30s 559ms/step - loss: 0.0773 - accuracy: 0.9757 - val_loss: 0.1153 - val_accuracy: 0.9628\n",
            "Epoch 27/100\n",
            "54/54 [==============================] - 29s 541ms/step - loss: 0.0748 - accuracy: 0.9734 - val_loss: 0.1162 - val_accuracy: 0.9698\n",
            "Epoch 28/100\n",
            "54/54 [==============================] - 30s 556ms/step - loss: 0.0735 - accuracy: 0.9751 - val_loss: 0.1222 - val_accuracy: 0.9628\n",
            "Epoch 29/100\n",
            "54/54 [==============================] - 29s 543ms/step - loss: 0.0820 - accuracy: 0.9745 - val_loss: 0.0919 - val_accuracy: 0.9744\n",
            "Epoch 30/100\n",
            "54/54 [==============================] - 29s 540ms/step - loss: 0.0663 - accuracy: 0.9763 - val_loss: 0.1089 - val_accuracy: 0.9651\n",
            "Epoch 31/100\n",
            "54/54 [==============================] - 30s 561ms/step - loss: 0.0935 - accuracy: 0.9641 - val_loss: 0.1008 - val_accuracy: 0.9698\n",
            "Epoch 32/100\n",
            "54/54 [==============================] - 29s 546ms/step - loss: 0.0828 - accuracy: 0.9722 - val_loss: 0.1009 - val_accuracy: 0.9628\n",
            "Epoch 33/100\n",
            "54/54 [==============================] - 30s 549ms/step - loss: 0.0546 - accuracy: 0.9826 - val_loss: 0.1039 - val_accuracy: 0.9767\n",
            "Epoch 34/100\n",
            "54/54 [==============================] - 31s 569ms/step - loss: 0.0614 - accuracy: 0.9809 - val_loss: 0.0825 - val_accuracy: 0.9814\n",
            "Epoch 35/100\n",
            "54/54 [==============================] - 30s 558ms/step - loss: 0.0590 - accuracy: 0.9809 - val_loss: 0.1009 - val_accuracy: 0.9605\n",
            "Epoch 36/100\n",
            "54/54 [==============================] - 31s 573ms/step - loss: 0.0700 - accuracy: 0.9780 - val_loss: 0.1135 - val_accuracy: 0.9767\n",
            "Epoch 37/100\n",
            "54/54 [==============================] - 30s 560ms/step - loss: 0.0525 - accuracy: 0.9826 - val_loss: 0.1069 - val_accuracy: 0.9698\n",
            "Epoch 38/100\n",
            "54/54 [==============================] - 30s 564ms/step - loss: 0.0796 - accuracy: 0.9687 - val_loss: 0.1087 - val_accuracy: 0.9674\n",
            "Epoch 39/100\n",
            "54/54 [==============================] - 31s 579ms/step - loss: 0.0766 - accuracy: 0.9768 - val_loss: 0.1002 - val_accuracy: 0.9674\n",
            "Epoch 40/100\n",
            "54/54 [==============================] - 30s 563ms/step - loss: 0.0568 - accuracy: 0.9826 - val_loss: 0.0883 - val_accuracy: 0.9767\n",
            "Epoch 41/100\n",
            "54/54 [==============================] - 31s 574ms/step - loss: 0.0549 - accuracy: 0.9803 - val_loss: 0.1253 - val_accuracy: 0.9674\n",
            "Epoch 42/100\n",
            "54/54 [==============================] - 30s 555ms/step - loss: 0.0516 - accuracy: 0.9815 - val_loss: 0.0746 - val_accuracy: 0.9814\n",
            "Epoch 43/100\n",
            "54/54 [==============================] - 30s 557ms/step - loss: 0.0623 - accuracy: 0.9780 - val_loss: 0.1113 - val_accuracy: 0.9744\n",
            "Epoch 44/100\n",
            "54/54 [==============================] - 31s 569ms/step - loss: 0.0585 - accuracy: 0.9797 - val_loss: 0.1617 - val_accuracy: 0.9558\n",
            "Epoch 45/100\n",
            "54/54 [==============================] - 30s 559ms/step - loss: 0.0651 - accuracy: 0.9774 - val_loss: 0.0594 - val_accuracy: 0.9860\n",
            "Epoch 46/100\n",
            "54/54 [==============================] - 31s 574ms/step - loss: 0.0617 - accuracy: 0.9815 - val_loss: 0.0976 - val_accuracy: 0.9767\n",
            "Epoch 47/100\n",
            "54/54 [==============================] - 30s 556ms/step - loss: 0.0635 - accuracy: 0.9797 - val_loss: 0.1320 - val_accuracy: 0.9767\n",
            "Epoch 48/100\n",
            "54/54 [==============================] - 30s 556ms/step - loss: 0.0750 - accuracy: 0.9763 - val_loss: 0.0647 - val_accuracy: 0.9767\n",
            "Epoch 49/100\n",
            "54/54 [==============================] - 31s 572ms/step - loss: 0.0567 - accuracy: 0.9809 - val_loss: 0.0567 - val_accuracy: 0.9814\n",
            "Epoch 50/100\n",
            "54/54 [==============================] - 30s 553ms/step - loss: 0.0663 - accuracy: 0.9763 - val_loss: 0.0752 - val_accuracy: 0.9744\n",
            "Epoch 51/100\n",
            "54/54 [==============================] - 31s 569ms/step - loss: 0.0616 - accuracy: 0.9803 - val_loss: 0.1144 - val_accuracy: 0.9674\n",
            "Epoch 52/100\n",
            "54/54 [==============================] - 30s 553ms/step - loss: 0.0560 - accuracy: 0.9832 - val_loss: 0.1569 - val_accuracy: 0.9651\n",
            "Epoch 53/100\n",
            "54/54 [==============================] - 30s 554ms/step - loss: 0.0469 - accuracy: 0.9867 - val_loss: 0.1289 - val_accuracy: 0.9605\n",
            "Epoch 54/100\n",
            "54/54 [==============================] - 31s 569ms/step - loss: 0.0448 - accuracy: 0.9867 - val_loss: 0.0681 - val_accuracy: 0.9860\n",
            "Epoch 55/100\n",
            "54/54 [==============================] - 30s 553ms/step - loss: 0.0679 - accuracy: 0.9763 - val_loss: 0.1054 - val_accuracy: 0.9674\n",
            "Epoch 56/100\n",
            "54/54 [==============================] - 31s 573ms/step - loss: 0.0631 - accuracy: 0.9786 - val_loss: 0.1030 - val_accuracy: 0.9721\n",
            "Epoch 57/100\n",
            "54/54 [==============================] - 30s 555ms/step - loss: 0.0576 - accuracy: 0.9797 - val_loss: 0.0774 - val_accuracy: 0.9767\n",
            "Epoch 58/100\n",
            "54/54 [==============================] - 30s 555ms/step - loss: 0.0528 - accuracy: 0.9832 - val_loss: 0.0866 - val_accuracy: 0.9767\n",
            "Epoch 59/100\n",
            "54/54 [==============================] - 31s 573ms/step - loss: 0.0436 - accuracy: 0.9820 - val_loss: 0.0985 - val_accuracy: 0.9744\n",
            "Epoch 60/100\n",
            "54/54 [==============================] - 30s 555ms/step - loss: 0.0569 - accuracy: 0.9797 - val_loss: 0.0838 - val_accuracy: 0.9674\n",
            "Epoch 61/100\n",
            "54/54 [==============================] - 30s 554ms/step - loss: 0.0567 - accuracy: 0.9792 - val_loss: 0.0530 - val_accuracy: 0.9884\n",
            "Epoch 62/100\n",
            "54/54 [==============================] - 30s 563ms/step - loss: 0.0453 - accuracy: 0.9826 - val_loss: 0.1032 - val_accuracy: 0.9744\n",
            "Epoch 63/100\n",
            "54/54 [==============================] - 30s 556ms/step - loss: 0.0480 - accuracy: 0.9855 - val_loss: 0.0936 - val_accuracy: 0.9744\n",
            "Epoch 64/100\n",
            "54/54 [==============================] - 31s 575ms/step - loss: 0.0619 - accuracy: 0.9820 - val_loss: 0.0812 - val_accuracy: 0.9814\n",
            "Epoch 65/100\n",
            "54/54 [==============================] - 30s 550ms/step - loss: 0.0560 - accuracy: 0.9815 - val_loss: 0.0828 - val_accuracy: 0.9698\n",
            "Epoch 66/100\n",
            "54/54 [==============================] - 30s 556ms/step - loss: 0.0519 - accuracy: 0.9838 - val_loss: 0.0888 - val_accuracy: 0.9767\n",
            "Epoch 67/100\n",
            "54/54 [==============================] - 31s 568ms/step - loss: 0.0646 - accuracy: 0.9768 - val_loss: 0.0837 - val_accuracy: 0.9698\n",
            "Epoch 68/100\n",
            "54/54 [==============================] - 30s 552ms/step - loss: 0.0542 - accuracy: 0.9832 - val_loss: 0.0666 - val_accuracy: 0.9791\n",
            "Epoch 69/100\n",
            "54/54 [==============================] - 31s 571ms/step - loss: 0.0573 - accuracy: 0.9826 - val_loss: 0.0969 - val_accuracy: 0.9698\n",
            "Epoch 70/100\n",
            "54/54 [==============================] - 30s 553ms/step - loss: 0.0528 - accuracy: 0.9815 - val_loss: 0.1019 - val_accuracy: 0.9698\n",
            "Epoch 71/100\n",
            "54/54 [==============================] - 30s 555ms/step - loss: 0.0558 - accuracy: 0.9797 - val_loss: 0.1206 - val_accuracy: 0.9791\n",
            "Epoch 72/100\n",
            "54/54 [==============================] - 31s 569ms/step - loss: 0.0380 - accuracy: 0.9884 - val_loss: 0.0785 - val_accuracy: 0.9860\n",
            "Epoch 73/100\n",
            "54/54 [==============================] - 30s 553ms/step - loss: 0.0523 - accuracy: 0.9820 - val_loss: 0.0760 - val_accuracy: 0.9814\n",
            "Epoch 74/100\n",
            "54/54 [==============================] - 31s 569ms/step - loss: 0.0529 - accuracy: 0.9803 - val_loss: 0.0818 - val_accuracy: 0.9767\n",
            "Epoch 75/100\n",
            "54/54 [==============================] - 30s 549ms/step - loss: 0.0630 - accuracy: 0.9780 - val_loss: 0.0635 - val_accuracy: 0.9860\n",
            "Epoch 76/100\n",
            "54/54 [==============================] - 31s 570ms/step - loss: 0.0424 - accuracy: 0.9861 - val_loss: 0.1066 - val_accuracy: 0.9744\n",
            "Epoch 77/100\n",
            "54/54 [==============================] - 30s 551ms/step - loss: 0.0494 - accuracy: 0.9815 - val_loss: 0.1072 - val_accuracy: 0.9651\n",
            "Epoch 78/100\n",
            "54/54 [==============================] - 29s 548ms/step - loss: 0.0474 - accuracy: 0.9809 - val_loss: 0.1343 - val_accuracy: 0.9698\n",
            "Epoch 79/100\n",
            "54/54 [==============================] - 31s 568ms/step - loss: 0.0554 - accuracy: 0.9826 - val_loss: 0.0935 - val_accuracy: 0.9698\n",
            "Epoch 80/100\n",
            "54/54 [==============================] - 30s 552ms/step - loss: 0.0378 - accuracy: 0.9867 - val_loss: 0.0858 - val_accuracy: 0.9721\n",
            "Epoch 81/100\n",
            "54/54 [==============================] - 30s 567ms/step - loss: 0.0569 - accuracy: 0.9820 - val_loss: 0.1412 - val_accuracy: 0.9581\n",
            "Epoch 82/100\n",
            "54/54 [==============================] - 30s 553ms/step - loss: 0.0601 - accuracy: 0.9809 - val_loss: 0.0836 - val_accuracy: 0.9767\n",
            "Epoch 83/100\n",
            "54/54 [==============================] - 30s 551ms/step - loss: 0.0424 - accuracy: 0.9849 - val_loss: 0.1207 - val_accuracy: 0.9674\n",
            "Epoch 84/100\n",
            "54/54 [==============================] - 30s 567ms/step - loss: 0.0519 - accuracy: 0.9809 - val_loss: 0.0866 - val_accuracy: 0.9698\n",
            "Epoch 85/100\n",
            "54/54 [==============================] - 30s 550ms/step - loss: 0.0497 - accuracy: 0.9849 - val_loss: 0.0592 - val_accuracy: 0.9814\n",
            "Epoch 86/100\n",
            "54/54 [==============================] - 31s 568ms/step - loss: 0.0404 - accuracy: 0.9902 - val_loss: 0.0755 - val_accuracy: 0.9744\n",
            "Epoch 87/100\n",
            "54/54 [==============================] - 30s 552ms/step - loss: 0.0538 - accuracy: 0.9832 - val_loss: 0.0599 - val_accuracy: 0.9744\n",
            "Epoch 88/100\n",
            "54/54 [==============================] - 30s 551ms/step - loss: 0.0484 - accuracy: 0.9815 - val_loss: 0.0857 - val_accuracy: 0.9791\n",
            "Epoch 89/100\n",
            "54/54 [==============================] - 30s 566ms/step - loss: 0.0486 - accuracy: 0.9844 - val_loss: 0.1066 - val_accuracy: 0.9721\n",
            "Epoch 90/100\n",
            "54/54 [==============================] - 30s 553ms/step - loss: 0.0442 - accuracy: 0.9855 - val_loss: 0.0698 - val_accuracy: 0.9721\n",
            "Epoch 91/100\n",
            "54/54 [==============================] - 30s 565ms/step - loss: 0.0385 - accuracy: 0.9855 - val_loss: 0.1259 - val_accuracy: 0.9698\n",
            "Epoch 92/100\n",
            "54/54 [==============================] - 29s 548ms/step - loss: 0.0487 - accuracy: 0.9820 - val_loss: 0.0743 - val_accuracy: 0.9744\n",
            "Epoch 93/100\n",
            "54/54 [==============================] - 29s 547ms/step - loss: 0.0445 - accuracy: 0.9878 - val_loss: 0.0677 - val_accuracy: 0.9721\n",
            "Epoch 94/100\n",
            "54/54 [==============================] - 30s 563ms/step - loss: 0.0407 - accuracy: 0.9855 - val_loss: 0.0631 - val_accuracy: 0.9698\n",
            "Epoch 95/100\n",
            "54/54 [==============================] - 29s 548ms/step - loss: 0.0539 - accuracy: 0.9826 - val_loss: 0.0775 - val_accuracy: 0.9767\n",
            "Epoch 96/100\n",
            "54/54 [==============================] - 31s 569ms/step - loss: 0.0474 - accuracy: 0.9855 - val_loss: 0.0721 - val_accuracy: 0.9837\n",
            "Epoch 97/100\n",
            "54/54 [==============================] - 30s 549ms/step - loss: 0.0683 - accuracy: 0.9774 - val_loss: 0.0771 - val_accuracy: 0.9767\n",
            "Epoch 98/100\n",
            "54/54 [==============================] - 30s 550ms/step - loss: 0.0449 - accuracy: 0.9844 - val_loss: 0.0976 - val_accuracy: 0.9767\n",
            "Epoch 99/100\n",
            "54/54 [==============================] - 30s 566ms/step - loss: 0.0576 - accuracy: 0.9855 - val_loss: 0.0635 - val_accuracy: 0.9837\n",
            "Epoch 100/100\n",
            "54/54 [==============================] - 29s 548ms/step - loss: 0.0527 - accuracy: 0.9815 - val_loss: 0.0692 - val_accuracy: 0.9791\n"
          ]
        }
      ]
    },
    {
      "cell_type": "code",
      "source": [
        "#Visualizamos una graficas de precision\n",
        "acc = historial.history['accuracy']\n",
        "val_acc = historial.history['val_accuracy']\n",
        "\n",
        "loss = historial.history['loss']\n",
        "val_loss = historial.history['val_loss']\n",
        "\n",
        "rango_epocas = range(100)\n",
        "\n",
        "plt.figure(figsize=(8,8))\n",
        "plt.subplot(1,2,1)\n",
        "plt.plot(rango_epocas, acc, label='Precisión Entrenamiento')\n",
        "plt.plot(rango_epocas, val_acc, label='Precisión Pruebas')\n",
        "plt.legend(loc='lower right')\n",
        "plt.title('Precisión de entrenamiento y pruebas')\n",
        "\n",
        "plt.subplot(1,2,2)\n",
        "plt.plot(rango_epocas, loss, label='Pérdida de entrenamiento')\n",
        "plt.plot(rango_epocas, val_loss, label='Pérdida de pruebas')\n",
        "plt.legend(loc='upper right')\n",
        "plt.title('Pérdida de entrenamiento y pruebas')\n",
        "plt.show()"
      ],
      "metadata": {
        "colab": {
          "base_uri": "https://localhost:8080/",
          "height": 499
        },
        "id": "kTxzoM0i0zwn",
        "outputId": "cd896fee-a717-40ea-ea3f-84bc8c7ee5d8"
      },
      "execution_count": null,
      "outputs": [
        {
          "output_type": "display_data",
          "data": {
            "text/plain": [
              "<Figure size 576x576 with 2 Axes>"
            ],
            "image/png": "[encoded data removed]"
          },
          "metadata": {
            "needs_background": "light"
          }
        }
      ]
    },
    {
      "cell_type": "code",
      "source": [
        "#Definimos que vamos a categorizar una imagen de internet\n",
        "from PIL import Image\n",
        "import requests\n",
        "from io import BytesIO\n",
        "import cv2\n",
        "\n",
        "def categorizar(url):\n",
        "  respuesta = requests.get(url)\n",
        "  img = Image.open(BytesIO(respuesta.content))\n",
        "  img = np.array(img).astype(float)/255\n",
        "\n",
        "  img = cv2.resize(img, (224,224))\n",
        "  prediccion = modelo.predict(img.reshape(-1, 224, 224, 3))\n",
        "  return np.argmax(prediccion[0], axis=-1)"
      ],
      "metadata": {
        "id": "znoxkFck1hBQ"
      },
      "execution_count": null,
      "outputs": []
    },
    {
      "cell_type": "code",
      "source": [
        "#0 = aire_acondicionado, 1 = cafeteras, 2 = cocinas, 3 = heladeras, 4 = lavarropas, 5 = licuadoras, 6 = microondas, 7= televisores, 8= tostadoras, 9 = ventiladores\n",
        "url = 'https://images.samsung.com/is/image/samsung/assets/ar/tvs/tv-buying-guide/best-picture-quality-tv/2020-tv-buying-guide-the-best-tv-picture-quality-f01-1-pc.png?$920_N_PNG$' \n",
        "prediccion = categorizar (url)\n",
        "print(prediccion)\n",
        "#7_url ='https://images.samsung.com/is/image/samsung/assets/ar/tvs/tv-buying-guide/best-picture-quality-tv/2020-tv-buying-guide-the-best-tv-picture-quality-f01-1-pc.png?$920_N_PNG$'\n",
        "#4_url = 'https://www.cetrogar.com.ar/media/catalog/product/l/b/lb2952_1.jpg?quality=80&bg-color=255,255,255&fit=bounds&height=&width=&canvas=:' "
      ],
      "metadata": {
        "colab": {
          "base_uri": "https://localhost:8080/"
        },
        "id": "jx-__V7a10xo",
        "outputId": "6b10be94-25f0-413e-dc54-8c2222406597"
      },
      "execution_count": null,
      "outputs": [
        {
          "output_type": "stream",
          "name": "stdout",
          "text": [
            "7\n"
          ]
        }
      ]
    },
    {
      "cell_type": "code",
      "source": [
        "#Exportar el modelo en formato h5\n",
        "modelo.save('modelo_electrodomestico.h5')"
      ],
      "metadata": {
        "id": "axSdTgzoAukc"
      },
      "execution_count": null,
      "outputs": []
    },
    {
      "cell_type": "code",
      "source": [
        "#El equipo es Linux. Listemos el contenido de la carpeta actual para ver que se exporto el modelo\n",
        "!ls"
      ],
      "metadata": {
        "colab": {
          "base_uri": "https://localhost:8080/"
        },
        "id": "TtDo8Rt9A758",
        "outputId": "8e360e75-6ca4-4514-a02f-17da61432775"
      },
      "execution_count": null,
      "outputs": [
        {
          "output_type": "stream",
          "name": "stdout",
          "text": [
            "dataset  modelo_electrodomestico.h5  sample_data  TF_IA\n"
          ]
        }
      ]
    },
    {
      "cell_type": "code",
      "source": [
        "#Para convertirlo a tensorflow.js, primero debemos instalar la libreria\n",
        "!pip install tensorflowjs"
      ],
      "metadata": {
        "colab": {
          "base_uri": "https://localhost:8080/",
          "height": 1000
        },
        "id": "dUHdCAdt_zU2",
        "outputId": "456621ba-cfbc-40b4-b94a-460756489b6e"
      },
      "execution_count": null,
      "outputs": [
        {
          "output_type": "stream",
          "name": "stdout",
          "text": [
            "Looking in indexes: https://pypi.org/simple, https://us-python.pkg.dev/colab-wheels/public/simple/\n",
            "Collecting tensorflowjs\n",
            "  Downloading tensorflowjs-3.19.0-py3-none-any.whl (78 kB)\n",
            "\u001b[K     |████████████████████████████████| 78 kB 7.3 MB/s \n",
            "\u001b[?25hRequirement already satisfied: tensorflow<3,>=2.1.0 in /usr/local/lib/python3.7/dist-packages (from tensorflowjs) (2.8.2+zzzcolab20220719082949)\n",
            "Collecting packaging~=20.9\n",
            "  Downloading packaging-20.9-py2.py3-none-any.whl (40 kB)\n",
            "\u001b[K     |████████████████████████████████| 40 kB 6.7 MB/s \n",
            "\u001b[?25hRequirement already satisfied: tensorflow-hub<0.13,>=0.7.0 in /usr/local/lib/python3.7/dist-packages (from tensorflowjs) (0.12.0)\n",
            "Requirement already satisfied: six<2,>=1.12.0 in /usr/local/lib/python3.7/dist-packages (from tensorflowjs) (1.15.0)\n",
            "Collecting protobuf==3.20.0\n",
            "  Downloading protobuf-3.20.0-cp37-cp37m-manylinux_2_5_x86_64.manylinux1_x86_64.whl (1.0 MB)\n",
            "\u001b[K     |████████████████████████████████| 1.0 MB 53.1 MB/s \n",
            "\u001b[?25hRequirement already satisfied: pyparsing>=2.0.2 in /usr/local/lib/python3.7/dist-packages (from packaging~=20.9->tensorflowjs) (3.0.9)\n",
            "Requirement already satisfied: absl-py>=0.4.0 in /usr/local/lib/python3.7/dist-packages (from tensorflow<3,>=2.1.0->tensorflowjs) (1.2.0)\n",
            "Requirement already satisfied: tensorflow-estimator<2.9,>=2.8 in /usr/local/lib/python3.7/dist-packages (from tensorflow<3,>=2.1.0->tensorflowjs) (2.8.0)\n",
            "Collecting tensorflow<3,>=2.1.0\n",
            "  Downloading tensorflow-2.9.1-cp37-cp37m-manylinux_2_17_x86_64.manylinux2014_x86_64.whl (511.7 MB)\n",
            "\u001b[K     |████████████████████████████████| 511.7 MB 6.0 kB/s \n",
            "\u001b[?25h  Downloading tensorflow-2.9.0-cp37-cp37m-manylinux_2_17_x86_64.manylinux2014_x86_64.whl (511.7 MB)\n",
            "\u001b[K     |████████████████████████████████| 511.7 MB 4.8 kB/s \n",
            "\u001b[?25hCollecting gast<=0.4.0,>=0.2.1\n",
            "  Downloading gast-0.4.0-py3-none-any.whl (9.8 kB)\n",
            "Requirement already satisfied: keras-preprocessing>=1.1.1 in /usr/local/lib/python3.7/dist-packages (from tensorflow<3,>=2.1.0->tensorflowjs) (1.1.2)\n",
            "Collecting tensorflow-estimator<2.10.0,>=2.9.0rc0\n",
            "  Downloading tensorflow_estimator-2.9.0-py2.py3-none-any.whl (438 kB)\n",
            "\u001b[K     |████████████████████████████████| 438 kB 58.1 MB/s \n",
            "\u001b[?25hRequirement already satisfied: termcolor>=1.1.0 in /usr/local/lib/python3.7/dist-packages (from tensorflow<3,>=2.1.0->tensorflowjs) (1.1.0)\n",
            "Requirement already satisfied: astunparse>=1.6.0 in /usr/local/lib/python3.7/dist-packages (from tensorflow<3,>=2.1.0->tensorflowjs) (1.6.3)\n",
            "Requirement already satisfied: h5py>=2.9.0 in /usr/local/lib/python3.7/dist-packages (from tensorflow<3,>=2.1.0->tensorflowjs) (3.1.0)\n",
            "Requirement already satisfied: typing-extensions>=3.6.6 in /usr/local/lib/python3.7/dist-packages (from tensorflow<3,>=2.1.0->tensorflowjs) (4.1.1)\n",
            "Requirement already satisfied: opt-einsum>=2.3.2 in /usr/local/lib/python3.7/dist-packages (from tensorflow<3,>=2.1.0->tensorflowjs) (3.3.0)\n",
            "Requirement already satisfied: google-pasta>=0.1.1 in /usr/local/lib/python3.7/dist-packages (from tensorflow<3,>=2.1.0->tensorflowjs) (0.2.0)\n",
            "Collecting flatbuffers<2,>=1.12\n",
            "  Downloading flatbuffers-1.12-py2.py3-none-any.whl (15 kB)\n",
            "Requirement already satisfied: libclang>=13.0.0 in /usr/local/lib/python3.7/dist-packages (from tensorflow<3,>=2.1.0->tensorflowjs) (14.0.6)\n",
            "Requirement already satisfied: grpcio<2.0,>=1.24.3 in /usr/local/lib/python3.7/dist-packages (from tensorflow<3,>=2.1.0->tensorflowjs) (1.47.0)\n",
            "Requirement already satisfied: tensorflow-io-gcs-filesystem>=0.23.1 in /usr/local/lib/python3.7/dist-packages (from tensorflow<3,>=2.1.0->tensorflowjs) (0.26.0)\n",
            "Requirement already satisfied: wrapt>=1.11.0 in /usr/local/lib/python3.7/dist-packages (from tensorflow<3,>=2.1.0->tensorflowjs) (1.14.1)\n",
            "Requirement already satisfied: numpy>=1.20 in /usr/local/lib/python3.7/dist-packages (from tensorflow<3,>=2.1.0->tensorflowjs) (1.21.6)\n",
            "Requirement already satisfied: setuptools in /usr/local/lib/python3.7/dist-packages (from tensorflow<3,>=2.1.0->tensorflowjs) (57.4.0)\n",
            "Collecting tensorboard<2.10,>=2.9\n",
            "  Downloading tensorboard-2.9.1-py3-none-any.whl (5.8 MB)\n",
            "\u001b[K     |████████████████████████████████| 5.8 MB 56.7 MB/s \n",
            "\u001b[?25hCollecting keras<2.10.0,>=2.9.0rc0\n",
            "  Downloading keras-2.9.0-py2.py3-none-any.whl (1.6 MB)\n",
            "\u001b[K     |████████████████████████████████| 1.6 MB 64.9 MB/s \n",
            "\u001b[?25hRequirement already satisfied: wheel<1.0,>=0.23.0 in /usr/local/lib/python3.7/dist-packages (from astunparse>=1.6.0->tensorflow<3,>=2.1.0->tensorflowjs) (0.37.1)\n",
            "Requirement already satisfied: cached-property in /usr/local/lib/python3.7/dist-packages (from h5py>=2.9.0->tensorflow<3,>=2.1.0->tensorflowjs) (1.5.2)\n",
            "Requirement already satisfied: requests<3,>=2.21.0 in /usr/local/lib/python3.7/dist-packages (from tensorboard<2.10,>=2.9->tensorflow<3,>=2.1.0->tensorflowjs) (2.23.0)\n",
            "Requirement already satisfied: werkzeug>=1.0.1 in /usr/local/lib/python3.7/dist-packages (from tensorboard<2.10,>=2.9->tensorflow<3,>=2.1.0->tensorflowjs) (1.0.1)\n",
            "Collecting tensorboard<2.10,>=2.9\n",
            "  Downloading tensorboard-2.9.0-py3-none-any.whl (5.8 MB)\n",
            "\u001b[K     |████████████████████████████████| 5.8 MB 61.7 MB/s \n",
            "\u001b[?25hRequirement already satisfied: tensorboard-plugin-wit>=1.6.0 in /usr/local/lib/python3.7/dist-packages (from tensorboard<2.10,>=2.9->tensorflow<3,>=2.1.0->tensorflowjs) (1.8.1)\n",
            "Requirement already satisfied: tensorboard-data-server<0.7.0,>=0.6.0 in /usr/local/lib/python3.7/dist-packages (from tensorboard<2.10,>=2.9->tensorflow<3,>=2.1.0->tensorflowjs) (0.6.1)\n",
            "Requirement already satisfied: google-auth<3,>=1.6.3 in /usr/local/lib/python3.7/dist-packages (from tensorboard<2.10,>=2.9->tensorflow<3,>=2.1.0->tensorflowjs) (1.35.0)\n",
            "Requirement already satisfied: markdown>=2.6.8 in /usr/local/lib/python3.7/dist-packages (from tensorboard<2.10,>=2.9->tensorflow<3,>=2.1.0->tensorflowjs) (3.4.1)\n",
            "Requirement already satisfied: google-auth-oauthlib<0.5,>=0.4.1 in /usr/local/lib/python3.7/dist-packages (from tensorboard<2.10,>=2.9->tensorflow<3,>=2.1.0->tensorflowjs) (0.4.6)\n",
            "Requirement already satisfied: cachetools<5.0,>=2.0.0 in /usr/local/lib/python3.7/dist-packages (from google-auth<3,>=1.6.3->tensorboard<2.10,>=2.9->tensorflow<3,>=2.1.0->tensorflowjs) (4.2.4)\n",
            "Requirement already satisfied: rsa<5,>=3.1.4 in /usr/local/lib/python3.7/dist-packages (from google-auth<3,>=1.6.3->tensorboard<2.10,>=2.9->tensorflow<3,>=2.1.0->tensorflowjs) (4.9)\n",
            "Requirement already satisfied: pyasn1-modules>=0.2.1 in /usr/local/lib/python3.7/dist-packages (from google-auth<3,>=1.6.3->tensorboard<2.10,>=2.9->tensorflow<3,>=2.1.0->tensorflowjs) (0.2.8)\n",
            "Requirement already satisfied: requests-oauthlib>=0.7.0 in /usr/local/lib/python3.7/dist-packages (from google-auth-oauthlib<0.5,>=0.4.1->tensorboard<2.10,>=2.9->tensorflow<3,>=2.1.0->tensorflowjs) (1.3.1)\n",
            "Requirement already satisfied: importlib-metadata>=4.4 in /usr/local/lib/python3.7/dist-packages (from markdown>=2.6.8->tensorboard<2.10,>=2.9->tensorflow<3,>=2.1.0->tensorflowjs) (4.12.0)\n",
            "Requirement already satisfied: zipp>=0.5 in /usr/local/lib/python3.7/dist-packages (from importlib-metadata>=4.4->markdown>=2.6.8->tensorboard<2.10,>=2.9->tensorflow<3,>=2.1.0->tensorflowjs) (3.8.1)\n",
            "Requirement already satisfied: pyasn1<0.5.0,>=0.4.6 in /usr/local/lib/python3.7/dist-packages (from pyasn1-modules>=0.2.1->google-auth<3,>=1.6.3->tensorboard<2.10,>=2.9->tensorflow<3,>=2.1.0->tensorflowjs) (0.4.8)\n",
            "Requirement already satisfied: chardet<4,>=3.0.2 in /usr/local/lib/python3.7/dist-packages (from requests<3,>=2.21.0->tensorboard<2.10,>=2.9->tensorflow<3,>=2.1.0->tensorflowjs) (3.0.4)\n",
            "Requirement already satisfied: urllib3!=1.25.0,!=1.25.1,<1.26,>=1.21.1 in /usr/local/lib/python3.7/dist-packages (from requests<3,>=2.21.0->tensorboard<2.10,>=2.9->tensorflow<3,>=2.1.0->tensorflowjs) (1.24.3)\n",
            "Requirement already satisfied: certifi>=2017.4.17 in /usr/local/lib/python3.7/dist-packages (from requests<3,>=2.21.0->tensorboard<2.10,>=2.9->tensorflow<3,>=2.1.0->tensorflowjs) (2022.6.15)\n",
            "Requirement already satisfied: idna<3,>=2.5 in /usr/local/lib/python3.7/dist-packages (from requests<3,>=2.21.0->tensorboard<2.10,>=2.9->tensorflow<3,>=2.1.0->tensorflowjs) (2.10)\n",
            "Requirement already satisfied: oauthlib>=3.0.0 in /usr/local/lib/python3.7/dist-packages (from requests-oauthlib>=0.7.0->google-auth-oauthlib<0.5,>=0.4.1->tensorboard<2.10,>=2.9->tensorflow<3,>=2.1.0->tensorflowjs) (3.2.0)\n",
            "Installing collected packages: protobuf, tensorflow-estimator, tensorboard, packaging, keras, gast, flatbuffers, tensorflow, tensorflowjs\n",
            "  Attempting uninstall: protobuf\n",
            "    Found existing installation: protobuf 3.17.3\n",
            "    Uninstalling protobuf-3.17.3:\n",
            "      Successfully uninstalled protobuf-3.17.3\n",
            "  Attempting uninstall: tensorflow-estimator\n",
            "    Found existing installation: tensorflow-estimator 2.8.0\n",
            "    Uninstalling tensorflow-estimator-2.8.0:\n",
            "      Successfully uninstalled tensorflow-estimator-2.8.0\n",
            "  Attempting uninstall: tensorboard\n",
            "    Found existing installation: tensorboard 2.8.0\n",
            "    Uninstalling tensorboard-2.8.0:\n",
            "      Successfully uninstalled tensorboard-2.8.0\n",
            "  Attempting uninstall: packaging\n",
            "    Found existing installation: packaging 21.3\n",
            "    Uninstalling packaging-21.3:\n",
            "      Successfully uninstalled packaging-21.3\n",
            "  Attempting uninstall: keras\n",
            "    Found existing installation: keras 2.8.0\n",
            "    Uninstalling keras-2.8.0:\n",
            "      Successfully uninstalled keras-2.8.0\n",
            "  Attempting uninstall: gast\n",
            "    Found existing installation: gast 0.5.3\n",
            "    Uninstalling gast-0.5.3:\n",
            "      Successfully uninstalled gast-0.5.3\n",
            "  Attempting uninstall: flatbuffers\n",
            "    Found existing installation: flatbuffers 2.0\n",
            "    Uninstalling flatbuffers-2.0:\n",
            "      Successfully uninstalled flatbuffers-2.0\n",
            "  Attempting uninstall: tensorflow\n",
            "    Found existing installation: tensorflow 2.8.2+zzzcolab20220719082949\n",
            "    Uninstalling tensorflow-2.8.2+zzzcolab20220719082949:\n",
            "      Successfully uninstalled tensorflow-2.8.2+zzzcolab20220719082949\n",
            "Successfully installed flatbuffers-1.12 gast-0.4.0 keras-2.9.0 packaging-20.9 protobuf-3.20.0 tensorboard-2.9.0 tensorflow-2.9.0 tensorflow-estimator-2.9.0 tensorflowjs-3.19.0\n"
          ]
        },
        {
          "output_type": "display_data",
          "data": {
            "application/vnd.colab-display-data+json": {
              "pip_warning": {
                "packages": [
                  "flatbuffers",
                  "gast",
                  "google",
                  "keras",
                  "packaging",
                  "tensorboard",
                  "tensorflow",
                  "tensorflow_estimator"
                ]
              }
            }
          },
          "metadata": {}
        }
      ]
    },
    {
      "cell_type": "code",
      "source": [
        "#Crear carpeta donde se colocaran los archivos resultantes\n",
        "!mkdir salida_electrodomestico"
      ],
      "metadata": {
        "id": "IaTqrwz_BI4A"
      },
      "execution_count": null,
      "outputs": []
    },
    {
      "cell_type": "code",
      "source": [
        "#Realizar la exportacion a la carpeta de salida\n",
        "!tensorflowjs_converter --input_format keras modelo_electrodomestico.h5 salida_electrodomestico"
      ],
      "metadata": {
        "id": "Wm2wSmF7BRkv"
      },
      "execution_count": null,
      "outputs": []
    },
    {
      "cell_type": "code",
      "source": [
        "#Confirmar que en la carpeta de salida se hayan generado los archivos. Deben aparecer archivos \"bin\" y \"json\"\n",
        "!ls salida_electrodomestico"
      ],
      "metadata": {
        "colab": {
          "base_uri": "https://localhost:8080/"
        },
        "id": "OAnIhUg2BdAL",
        "outputId": "6a8272d8-21e8-42b3-cdde-0d4fcefbd407"
      },
      "execution_count": null,
      "outputs": [
        {
          "output_type": "stream",
          "name": "stdout",
          "text": [
            "group1-shard1of3.bin  group1-shard2of3.bin  group1-shard3of3.bin  model.json\n"
          ]
        }
      ]
    },
    {
      "cell_type": "code",
      "source": [
        "#Hacerlo un zip para bajarlo y usarlo en otro lado\n",
        "!zip -r salida_electrodomestico.zip /content/salida_electrodomestico"
      ],
      "metadata": {
        "colab": {
          "base_uri": "https://localhost:8080/"
        },
        "id": "Gj2vFA1ABgEK",
        "outputId": "bab73e95-aa35-48c8-918c-b4a408004728"
      },
      "execution_count": null,
      "outputs": [
        {
          "output_type": "stream",
          "name": "stdout",
          "text": [
            "  adding: content/salida_electrodomestico/ (stored 0%)\n",
            "  adding: content/salida_electrodomestico/model.json (deflated 92%)\n",
            "  adding: content/salida_electrodomestico/group1-shard1of3.bin (deflated 7%)\n",
            "  adding: content/salida_electrodomestico/group1-shard3of3.bin (deflated 7%)\n",
            "  adding: content/salida_electrodomestico/group1-shard2of3.bin (deflated 7%)\n"
          ]
        }
      ]
    }
  ]
}