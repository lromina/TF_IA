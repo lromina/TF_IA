{
  "nbformat": 4,
  "nbformat_minor": 0,
  "metadata": {
    "colab": {
      "name": "TF_clasificador_IA",
      "provenance": [],
      "collapsed_sections": [],
      "include_colab_link": true
    },
    "kernelspec": {
      "name": "python3",
      "display_name": "Python 3"
    },
    "language_info": {
      "name": "python"
    },
    "accelerator": "GPU",
    "gpuClass": "standard"
  },
  "cells": [
    {
      "cell_type": "markdown",
      "metadata": {
        "id": "view-in-github",
        "colab_type": "text"
      },
      "source": [
        "<a href=\"https://colab.research.google.com/github/lromina/TF_IA/blob/main/TF_clasificador_IA2.ipynb\" target=\"_parent\"><img src=\"https://colab.research.google.com/assets/colab-badge.svg\" alt=\"Open In Colab\"/></a>"
      ]
    },
    {
      "cell_type": "code",
      "source": [
        "! git clone https://github.com/lromina/TF_IA.git "
      ],
      "metadata": {
        "colab": {
          "base_uri": "https://localhost:8080/"
        },
        "id": "Ff5ALQtBMofw",
        "outputId": "634f0f62-d75b-492c-c1df-798cca6901d0"
      },
      "execution_count": null,
      "outputs": [
        {
          "output_type": "stream",
          "name": "stdout",
          "text": [
            "Cloning into 'TF_IA'...\n",
            "remote: Enumerating objects: 2189, done.\u001b[K\n",
            "remote: Total 2189 (delta 0), reused 0 (delta 0), pack-reused 2189\u001b[K\n",
            "Receiving objects: 100% (2189/2189), 59.80 MiB | 17.68 MiB/s, done.\n"
          ]
        }
      ]
    },
    {
      "cell_type": "markdown",
      "source": [
        "# Nueva sección"
      ],
      "metadata": {
        "id": "LrjwqzQEbyUF"
      }
    },
    {
      "cell_type": "code",
      "source": [
        "#mostramos cuantas imagenes tengo por categoria\n",
        "!ls /content/TF_IA/ventiladores/ | wc -l #/content/TF_IA/aire_acondicionado\n",
        "!ls /content/TF_IA/tostadoras | wc -l\n",
        "!ls /content/TF_IA/televisores | wc -l\n",
        "!ls /content/TF_IA/microondas | wc -l\n",
        "!ls /content/TF_IA/lavarropas | wc -l\n",
        "!ls /content/TF_IA/heladeras | wc -l\n",
        "!ls /content/TF_IA/licuadoras | wc -l\n",
        "!ls /content/TF_IA/cocinas | wc -l\n",
        "!ls /content/TF_IA/cafeteras | wc -l\n",
        "!ls /content/TF_IA/aire_acondicionado | wc -l"
      ],
      "metadata": {
        "id": "vYJS0tJislGd",
        "colab": {
          "base_uri": "https://localhost:8080/"
        },
        "outputId": "8846478c-94f6-4e35-ecbc-43acafabaf26"
      },
      "execution_count": 3,
      "outputs": [
        {
          "output_type": "stream",
          "name": "stdout",
          "text": [
            "455\n",
            "191\n",
            "238\n",
            "50\n",
            "234\n",
            "219\n",
            "213\n",
            "159\n",
            "223\n",
            "207\n"
          ]
        }
      ]
    },
    {
      "cell_type": "code",
      "source": [
        ""
      ],
      "metadata": {
        "id": "AJJkXe2cu5gm"
      },
      "execution_count": null,
      "outputs": []
    }
  ]
}